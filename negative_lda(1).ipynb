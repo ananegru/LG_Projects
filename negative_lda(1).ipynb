{
 "cells": [
  {
   "cell_type": "code",
   "execution_count": 39,
   "id": "b527a4e3",
   "metadata": {},
   "outputs": [
    {
     "name": "stderr",
     "output_type": "stream",
     "text": [
      "[nltk_data] Downloading package punkt to\n",
      "[nltk_data]     C:\\Users\\annegru\\AppData\\Roaming\\nltk_data...\n",
      "[nltk_data]   Package punkt is already up-to-date!\n",
      "[nltk_data] Downloading package stopwords to\n",
      "[nltk_data]     C:\\Users\\annegru\\AppData\\Roaming\\nltk_data...\n",
      "[nltk_data]   Package stopwords is already up-to-date!\n"
     ]
    }
   ],
   "source": [
    "import pandas as pd\n",
    "import gensim\n",
    "from gensim.corpora import Dictionary\n",
    "import nltk\n",
    "nltk.download('punkt')\n",
    "from nltk.tokenize import word_tokenize\n",
    "from nltk.corpus import stopwords\n",
    "nltk.download('stopwords')\n",
    "from sklearn.feature_extraction.text import CountVectorizer\n",
    "from nltk.tokenize import word_tokenize\n",
    "from nltk.corpus import stopwords\n",
    "from nltk.stem import PorterStemmer\n",
    "import string\n",
    "from textblob import TextBlob\n",
    "import re\n",
    "from gensim import corpora\n",
    "from gensim import models"
   ]
  },
  {
   "cell_type": "code",
   "execution_count": null,
   "id": "e4a2fcc6",
   "metadata": {},
   "outputs": [],
   "source": [
    "uk_speed = pd.read_excel(r'C:UK_neg_speed.xlsx')\n",
    "uk_reliability = pd.read_excel(r'UK_neg_reliability.xlsx')\n",
    "\n",
    "uk_speed"
   ]
  },
  {
   "cell_type": "code",
   "execution_count": 7,
   "id": "998c54eb",
   "metadata": {},
   "outputs": [],
   "source": [
    "uk_speed = uk_speed['Comment'].tolist()\n",
    "uk_reliability= uk_reliability['Comment'].tolist()\n"
   ]
  },
  {
   "cell_type": "code",
   "execution_count": null,
   "id": "05ad2779",
   "metadata": {},
   "outputs": [],
   "source": [
    "uk_reliability"
   ]
  },
  {
   "cell_type": "code",
   "execution_count": 27,
   "id": "53f25cc7",
   "metadata": {},
   "outputs": [],
   "source": [
    "\n",
    "stoplist = set(stopwords.words('english'))\n",
    "punctuation = set(string.punctuation)\n",
    "ps = PorterStemmer()\n",
    "\n",
    "def preprocessing(list):\n",
    "    preprocessed_comments = []\n",
    "    for comment in list:\n",
    "        comment = comment.lower()\n",
    "        comment = ''.join([c for c in comment if c not in punctuation])\n",
    "        \n",
    "        tokens = word_tokenize(comment)\n",
    "        #tokens = [token for token in tokens if token not in stoplist and token not in punctuation]\n",
    "        tokens = [token for token in tokens if token not in stoplist and token not in punctuation and not token.isnumeric()]\n",
    "        #tokens = [token for token in tokens if token.isnumeric()]\n",
    "        tokens = [ps.stem(token) for token in tokens]\n",
    "        \n",
    "        for token in tokens:\n",
    "            if token.isnumeric() == True:\n",
    "                tokens.remove(token)\n",
    "        \n",
    "        preprocessed_comment = ' '.join(tokens)\n",
    "        preprocessed_comments.append(preprocessed_comment)\n",
    "    \n",
    "    return preprocessed_comments"
   ]
  },
  {
   "cell_type": "code",
   "execution_count": 43,
   "id": "28df0731",
   "metadata": {},
   "outputs": [],
   "source": [
    "stoplist = set(stopwords.words('english'))\n",
    "punctuation = string.punctuation + '‘’“”' \n",
    "ps = PorterStemmer()\n",
    "\n",
    "def preprocessed_comments(comment_list):\n",
    "    preprocessed_comments = []\n",
    "    for comment in comment_list:\n",
    "        comment = comment.lower()\n",
    "        comment = ''.join([c for c in comment if c not in punctuation])\n",
    "        tokens = word_tokenize(comment)\n",
    "        tokens = [token for token in tokens if token not in stoplist and token not in punctuation and not token.isnumeric()]\n",
    "        tokens = [ps.stem(token) for token in tokens]\n",
    "        tokens = [token for token in tokens if token not in stoplist and token not in punctuation and not token.isnumeric()]\n",
    "        preprocessed_comments.append(tokens)\n",
    "    return preprocessed_comments"
   ]
  },
  {
   "cell_type": "code",
   "execution_count": null,
   "id": "d9b1112b",
   "metadata": {},
   "outputs": [],
   "source": [
    "print(preprocessed_comments(uk_speed))"
   ]
  },
  {
   "cell_type": "code",
   "execution_count": null,
   "id": "dcb62dfb",
   "metadata": {},
   "outputs": [],
   "source": [
    "print(preprocessed_comments(uk_reliability))"
   ]
  },
  {
   "cell_type": "code",
   "execution_count": null,
   "id": "203a9139",
   "metadata": {},
   "outputs": [],
   "source": [
    "# finish with the preprocessing function, work on removing numeric values\n",
    "# move on with next steps, making bowvector to be able to feed it into lda model "
   ]
  },
  {
   "cell_type": "code",
   "execution_count": 46,
   "id": "8b3601b3",
   "metadata": {},
   "outputs": [
    {
     "name": "stdout",
     "output_type": "stream",
     "text": [
      "Dictionary(2546 unique tokens: ['crucial', 'downtim', 'expens', 'hour', 'internet']...)\n"
     ]
    }
   ],
   "source": [
    "# create a dictionary, each token is given an integer ID\n",
    "uk_speed_preprocessed = preprocessed_comments(uk_speed)\n",
    "speed_dictionary = corpora.Dictionary(preprocessed_comments(uk_speed))\n",
    "\n",
    "uk_reliability_preprocessed = preprocessed_comments(uk_reliability)\n",
    "reliability_dictionary = corpora.Dictionary(preprocessed_comments(uk_reliability))\n",
    "\n",
    "print(reliability_dictionary)"
   ]
  },
  {
   "cell_type": "code",
   "execution_count": 47,
   "id": "18d4b737",
   "metadata": {},
   "outputs": [],
   "source": [
    "# convert tokens into BoW representation\n",
    "\n",
    "speed_corpus = [speed_dictionary.doc2bow(comment) for comment in uk_speed_preprocessed]\n",
    "reliability_corpus = [reliability_dictionary.doc2bow(comment) for comment in uk_reliability_preprocessed]"
   ]
  },
  {
   "cell_type": "code",
   "execution_count": 48,
   "id": "32c16657",
   "metadata": {},
   "outputs": [],
   "source": [
    "#train lda model\n",
    "# set identified topics to a desired nr\n",
    "# show 10 most important words (represented by probability of word belonging to topic) \n",
    "# assign label to topic based on most represented words\n",
    "\n",
    "num_topics = 5\n",
    "passes = 10\n",
    "speed_lda = models.LdaModel(speed_corpus, id2word=speed_dictionary, num_topics=num_topics, passes=passes)\n",
    "reliability_lda = models.LdaModel(reliability_corpus, id2word=reliability_dictionary, num_topics=num_topics, passes=passes)"
   ]
  },
  {
   "cell_type": "code",
   "execution_count": null,
   "id": "f5c35c4f",
   "metadata": {},
   "outputs": [],
   "source": [
    "speed_lda.print_topics()\n",
    "reliability_lda.print_topics()"
   ]
  },
  {
   "cell_type": "code",
   "execution_count": null,
   "id": "85c04f88",
   "metadata": {},
   "outputs": [],
   "source": [
    "for topic in speed_lda.show_topics(num_topics=5, num_words=10, formatted=False):\n",
    "    print('Topic {}:'.format(topic[0]))\n",
    "    print([word[0] for word in topic[1]])\n",
    "    print()"
   ]
  },
  {
   "cell_type": "code",
   "execution_count": null,
   "id": "cb747673",
   "metadata": {},
   "outputs": [],
   "source": [
    "#topic 0: internet speed & customer service, linking to virgin\n",
    "#topic 1: broadband speed drops & customer service\n",
    "#topic 2: broadband & internet, focus on price\n",
    "#topic 3: slow internet, issues with internet & broadband connectivity, pay\n",
    "#topic 4: slow wifi & broadband, poor connection, drops at times and doesnt always work"
   ]
  },
  {
   "cell_type": "code",
   "execution_count": null,
   "id": "010fe7c3",
   "metadata": {},
   "outputs": [],
   "source": [
    "for topic in reliability_lda.show_topics(num_topics=5, num_words=10, formatted=False):\n",
    "    print('Topic {}:'.format(topic[0]))\n",
    "    print([word[0] for word in topic[1]])\n",
    "    print()"
   ]
  },
  {
   "cell_type": "code",
   "execution_count": null,
   "id": "8c910539",
   "metadata": {},
   "outputs": [],
   "source": [
    "#topic 0: at home internet drops\n",
    "#topic 1: router, customer service, expensive\n",
    "#topic 2: related to the company, calling customer service (?), connectivity issues\n",
    "#topic 3: issues with pricing and wifi/broadband\n",
    "#topic 4: wifi/broadband, customer service calling on the phone(?)"
   ]
  },
  {
   "cell_type": "markdown",
   "id": "6e458678",
   "metadata": {},
   "source": [
    "# CH"
   ]
  },
  {
   "cell_type": "code",
   "execution_count": 64,
   "id": "40545ab8",
   "metadata": {},
   "outputs": [],
   "source": [
    "def no_stemming_preprocessed_comments(comment_list):\n",
    "    preprocessed_comments = []\n",
    "    for comment in comment_list:\n",
    "        comment = comment.lower()\n",
    "        comment = ''.join([c for c in comment if c not in punctuation])\n",
    "        tokens = word_tokenize(comment)\n",
    "        tokens = [token for token in tokens if token not in stoplist and token not in punctuation and not token.isnumeric()]\n",
    "        #tokens = [ps.stem(token) for token in tokens]\n",
    "        #tokens = [token for token in tokens if token not in stoplist and token not in punctuation and not token.isnumeric()]\n",
    "        preprocessed_comments.append(tokens)\n",
    "    return preprocessed_comments"
   ]
  },
  {
   "cell_type": "code",
   "execution_count": 97,
   "id": "4aed2a1c",
   "metadata": {},
   "outputs": [],
   "source": [
    "ch_outages = pd.read_excel(r'C:CH(internet-outages).xlsx')\n",
    "ch_reliability = pd.read_excel(r'C:CH(internet-reliability).xlsx')"
   ]
  },
  {
   "cell_type": "code",
   "execution_count": 98,
   "id": "e58dd843",
   "metadata": {},
   "outputs": [],
   "source": [
    "ch_outages = ch_outages['comment'].tolist()\n",
    "ch_reliability = ch_reliability['comment'].tolist()"
   ]
  },
  {
   "cell_type": "code",
   "execution_count": 99,
   "id": "b6e995ff",
   "metadata": {},
   "outputs": [],
   "source": [
    "ch_outages_preprocessed = no_stemming_preprocessed_comments(ch_outages)\n",
    "ch_reliability_preprocessed = no_stemming_preprocessed_comments(ch_reliability)"
   ]
  },
  {
   "cell_type": "code",
   "execution_count": null,
   "id": "fba38a19",
   "metadata": {},
   "outputs": [],
   "source": [
    "print(ch_reliability_preprocessed)"
   ]
  },
  {
   "cell_type": "code",
   "execution_count": 101,
   "id": "4b096e86",
   "metadata": {},
   "outputs": [],
   "source": [
    "ch_outages_dictionary = corpora.Dictionary(ch_outages_preprocessed)\n",
    "ch_reliability_dictionary = corpora.Dictionary(ch_reliability_preprocessed)"
   ]
  },
  {
   "cell_type": "code",
   "execution_count": 102,
   "id": "cb4880aa",
   "metadata": {},
   "outputs": [],
   "source": [
    "ch_outages_corpus = [ch_outages_dictionary.doc2bow(comment) for comment in ch_outages_preprocessed]\n",
    "ch_reliability_corpus = [ch_reliability_dictionary.doc2bow(comment) for comment in ch_reliability_preprocessed]"
   ]
  },
  {
   "cell_type": "code",
   "execution_count": 103,
   "id": "9192e561",
   "metadata": {},
   "outputs": [],
   "source": [
    "num_topics = 4\n",
    "passes = 10\n",
    "ch_outages_lda = models.LdaModel(ch_outages_corpus, id2word=speed_dictionary, num_topics=num_topics, passes=passes)\n",
    "ch_reliability_lda = models.LdaModel(ch_reliability_corpus, id2word=reliability_dictionary, num_topics=num_topics, passes=passes)"
   ]
  },
  {
   "cell_type": "code",
   "execution_count": null,
   "id": "0fe629ff",
   "metadata": {},
   "outputs": [],
   "source": [
    "for topic in ch_outages_lda.show_topics(num_topics=5, num_words=10, formatted=False):\n",
    "    print('Topic {}:'.format(topic[0]))\n",
    "    print([word[0] for word in topic[1]])\n",
    "    print()"
   ]
  },
  {
   "cell_type": "code",
   "execution_count": null,
   "id": "97c58e1e",
   "metadata": {},
   "outputs": [],
   "source": [
    "for topic in ch_reliability_lda.show_topics(num_topics=5, num_words=10, formatted=False):\n",
    "    print('Topic {}:'.format(topic[0]))\n",
    "    print([word[0] for word in topic[1]])\n",
    "    print()"
   ]
  },
  {
   "cell_type": "code",
   "execution_count": null,
   "id": "4d7dc79c",
   "metadata": {},
   "outputs": [],
   "source": []
  },
  {
   "cell_type": "code",
   "execution_count": null,
   "id": "4dd9d07b",
   "metadata": {},
   "outputs": [],
   "source": []
  }
 ],
 "metadata": {
  "kernelspec": {
   "display_name": "Python 3 (ipykernel)",
   "language": "python",
   "name": "python3"
  },
  "language_info": {
   "codemirror_mode": {
    "name": "ipython",
    "version": 3
   },
   "file_extension": ".py",
   "mimetype": "text/x-python",
   "name": "python",
   "nbconvert_exporter": "python",
   "pygments_lexer": "ipython3",
   "version": "3.11.5"
  }
 },
 "nbformat": 4,
 "nbformat_minor": 5
}
