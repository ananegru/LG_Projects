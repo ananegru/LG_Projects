{
 "cells": [
  {
   "cell_type": "code",
   "execution_count": 39,
   "id": "b527a4e3",
   "metadata": {},
   "outputs": [
    {
     "name": "stderr",
     "output_type": "stream",
     "text": [
      "[nltk_data] Downloading package punkt to\n",
      "[nltk_data]     C:\\Users\\annegru\\AppData\\Roaming\\nltk_data...\n",
      "[nltk_data]   Package punkt is already up-to-date!\n",
      "[nltk_data] Downloading package stopwords to\n",
      "[nltk_data]     C:\\Users\\annegru\\AppData\\Roaming\\nltk_data...\n",
      "[nltk_data]   Package stopwords is already up-to-date!\n"
     ]
    }
   ],
   "source": [
    "import pandas as pd\n",
    "import gensim\n",
    "from gensim.corpora import Dictionary\n",
    "import nltk\n",
    "nltk.download('punkt')\n",
    "from nltk.tokenize import word_tokenize\n",
    "from nltk.corpus import stopwords\n",
    "nltk.download('stopwords')\n",
    "from sklearn.feature_extraction.text import CountVectorizer\n",
    "from nltk.tokenize import word_tokenize\n",
    "from nltk.corpus import stopwords\n",
    "from nltk.stem import PorterStemmer\n",
    "import string\n",
    "from textblob import TextBlob\n",
    "import re\n",
    "from gensim import corpora\n",
    "from gensim import models"
   ]
  },
  {
   "cell_type": "code",
   "execution_count": null,
   "id": "e4a2fcc6",
   "metadata": {},
   "outputs": [],
   "source": [
    "uk_speed = pd.read_excel(r'C:UK_neg_speed.xlsx')\n",
    "uk_reliability = pd.read_excel(r'UK_neg_reliability.xlsx')\n",
    "\n",
    "uk_speed"
   ]
  },
  {
   "cell_type": "code",
   "execution_count": 7,
   "id": "998c54eb",
   "metadata": {},
   "outputs": [],
   "source": [
    "uk_speed = uk_speed['Comment'].tolist()\n",
    "uk_reliability= uk_reliability['Comment'].tolist()\n"
   ]
  },
  {
   "cell_type": "code",
   "execution_count": null,
   "id": "05ad2779",
   "metadata": {},
   "outputs": [],
   "source": [
    "uk_reliability"
   ]
  },
  {
   "cell_type": "code",
   "execution_count": 27,
   "id": "53f25cc7",
   "metadata": {},
   "outputs": [],
   "source": [
    "\n",
    "stoplist = set(stopwords.words('english'))\n",
    "punctuation = set(string.punctuation)\n",
    "ps = PorterStemmer()\n",
    "\n",
    "def preprocessing(list):\n",
    "    preprocessed_comments = []\n",
    "    for comment in list:\n",
    "        comment = comment.lower()\n",
    "        comment = ''.join([c for c in comment if c not in punctuation])\n",
    "        \n",
    "        tokens = word_tokenize(comment)\n",
    "        #tokens = [token for token in tokens if token not in stoplist and token not in punctuation]\n",
    "        tokens = [token for token in tokens if token not in stoplist and token not in punctuation and not token.isnumeric()]\n",
    "        #tokens = [token for token in tokens if token.isnumeric()]\n",
    "        tokens = [ps.stem(token) for token in tokens]\n",
    "        \n",
    "        for token in tokens:\n",
    "            if token.isnumeric() == True:\n",
    "                tokens.remove(token)\n",
    "        \n",
    "        preprocessed_comment = ' '.join(tokens)\n",
    "        preprocessed_comments.append(preprocessed_comment)\n",
    "    \n",
    "    return preprocessed_comments"
   ]
  },
  {
   "cell_type": "code",
   "execution_count": 43,
   "id": "28df0731",
   "metadata": {},
   "outputs": [],
   "source": [
    "stoplist = set(stopwords.words('english'))\n",
    "punctuation = string.punctuation + '‘’“”' \n",
    "ps = PorterStemmer()\n",
    "\n",
    "def preprocessed_comments(comment_list):\n",
    "    preprocessed_comments = []\n",
    "    for comment in comment_list:\n",
    "        comment = comment.lower()\n",
    "        comment = ''.join([c for c in comment if c not in punctuation])\n",
    "        tokens = word_tokenize(comment)\n",
    "        tokens = [token for token in tokens if token not in stoplist and token not in punctuation and not token.isnumeric()]\n",
    "        tokens = [ps.stem(token) for token in tokens]\n",
    "        tokens = [token for token in tokens if token not in stoplist and token not in punctuation and not token.isnumeric()]\n",
    "        preprocessed_comments.append(tokens)\n",
    "    return preprocessed_comments"
   ]
  },
  {
   "cell_type": "code",
   "execution_count": null,
   "id": "d9b1112b",
   "metadata": {},
   "outputs": [],
   "source": [
    "print(preprocessed_comments(uk_speed))"
   ]
  },
  {
   "cell_type": "code",
   "execution_count": null,
   "id": "dcb62dfb",
   "metadata": {},
   "outputs": [],
   "source": [
    "print(preprocessed_comments(uk_reliability))"
   ]
  },
  {
   "cell_type": "code",
   "execution_count": null,
   "id": "203a9139",
   "metadata": {},
   "outputs": [],
   "source": [
    "# finish with the preprocessing function, work on removing numeric values\n",
    "# move on with next steps, making bowvector to be able to feed it into lda model "
   ]
  },
  {
   "cell_type": "code",
   "execution_count": 46,
   "id": "8b3601b3",
   "metadata": {},
   "outputs": [
    {
     "name": "stdout",
     "output_type": "stream",
     "text": [
      "Dictionary(2546 unique tokens: ['crucial', 'downtim', 'expens', 'hour', 'internet']...)\n"
     ]
    }
   ],
   "source": [
    "# create a dictionary, each token is given an integer ID\n",
    "uk_speed_preprocessed = preprocessed_comments(uk_speed)\n",
    "speed_dictionary = corpora.Dictionary(preprocessed_comments(uk_speed))\n",
    "\n",
    "uk_reliability_preprocessed = preprocessed_comments(uk_reliability)\n",
    "reliability_dictionary = corpora.Dictionary(preprocessed_comments(uk_reliability))\n",
    "\n",
    "print(reliability_dictionary)"
   ]
  },
  {
   "cell_type": "code",
   "execution_count": 47,
   "id": "18d4b737",
   "metadata": {},
   "outputs": [],
   "source": [
    "# convert tokens into BoW representation\n",
    "\n",
    "speed_corpus = [speed_dictionary.doc2bow(comment) for comment in uk_speed_preprocessed]\n",
    "reliability_corpus = [reliability_dictionary.doc2bow(comment) for comment in uk_reliability_preprocessed]"
   ]
  },
  {
   "cell_type": "code",
   "execution_count": 48,
   "id": "32c16657",
   "metadata": {},
   "outputs": [],
   "source": [
    "#train lda model\n",
    "# set identified topics to a desired nr\n",
    "# show 10 most important words (represented by probability of word belonging to topic) \n",
    "# assign label to topic based on most represented words\n",
    "\n",
    "num_topics = 5\n",
    "passes = 10\n",
    "speed_lda = models.LdaModel(speed_corpus, id2word=speed_dictionary, num_topics=num_topics, passes=passes)\n",
    "reliability_lda = models.LdaModel(reliability_corpus, id2word=reliability_dictionary, num_topics=num_topics, passes=passes)"
   ]
  },
  {
   "cell_type": "code",
   "execution_count": 49,
   "id": "f5c35c4f",
   "metadata": {},
   "outputs": [
    {
     "data": {
      "text/plain": [
       "[(0,\n",
       "  '0.039*\"internet\" + 0.031*\"work\" + 0.022*\"get\" + 0.020*\"time\" + 0.018*\"drop\" + 0.014*\"keep\" + 0.014*\"day\" + 0.013*\"broadband\" + 0.010*\"issu\" + 0.010*\"home\"'),\n",
       " (1,\n",
       "  '0.045*\"internet\" + 0.028*\"servic\" + 0.028*\"broadband\" + 0.026*\"drop\" + 0.021*\"connect\" + 0.014*\"work\" + 0.013*\"poor\" + 0.012*\"custom\" + 0.012*\"router\" + 0.011*\"expens\"'),\n",
       " (2,\n",
       "  '0.030*\"internet\" + 0.022*\"servic\" + 0.016*\"work\" + 0.015*\"time\" + 0.012*\"custom\" + 0.012*\"virgin\" + 0.011*\"intermitt\" + 0.010*\"call\" + 0.010*\"issu\" + 0.009*\"connect\"'),\n",
       " (3,\n",
       "  '0.022*\"wifi\" + 0.020*\"broadband\" + 0.018*\"work\" + 0.015*\"virgin\" + 0.013*\"time\" + 0.012*\"custom\" + 0.011*\"servic\" + 0.011*\"price\" + 0.010*\"issu\" + 0.009*\"reliabl\"'),\n",
       " (4,\n",
       "  '0.029*\"issu\" + 0.021*\"wifi\" + 0.019*\"broadband\" + 0.019*\"servic\" + 0.016*\"router\" + 0.015*\"get\" + 0.015*\"time\" + 0.010*\"phone\" + 0.009*\"ive\" + 0.009*\"told\"')]"
      ]
     },
     "execution_count": 49,
     "metadata": {},
     "output_type": "execute_result"
    }
   ],
   "source": [
    "speed_lda.print_topics()\n",
    "reliability_lda.print_topics()"
   ]
  },
  {
   "cell_type": "code",
   "execution_count": 50,
   "id": "85c04f88",
   "metadata": {
    "collapsed": true
   },
   "outputs": [
    {
     "name": "stdout",
     "output_type": "stream",
     "text": [
      "Topic 0:\n",
      "['speed', 'internet', 'servic', 'virgin', 'custom', 'slow', 'poor', 'get', 'time', 'router']\n",
      "\n",
      "Topic 1:\n",
      "['broadband', 'speed', 'servic', 'custom', 'slow', 'tv', 'time', 'get', 'poor', 'drop']\n",
      "\n",
      "Topic 2:\n",
      "['speed', 'servic', 'custom', 'price', 'get', 'time', 'good', 'broadband', 'internet', 'contract']\n",
      "\n",
      "Topic 3:\n",
      "['speed', 'get', 'pay', 'servic', 'connect', 'internet', 'broadband', 'dont', 'slow', 'virgin']\n",
      "\n",
      "Topic 4:\n",
      "['speed', 'internet', 'slow', 'wifi', 'get', 'broadband', 'connect', 'time', 'drop', 'work']\n",
      "\n"
     ]
    }
   ],
   "source": [
    "for topic in speed_lda.show_topics(num_topics=5, num_words=10, formatted=False):\n",
    "    print('Topic {}:'.format(topic[0]))\n",
    "    print([word[0] for word in topic[1]])\n",
    "    print()"
   ]
  },
  {
   "cell_type": "code",
   "execution_count": null,
   "id": "cb747673",
   "metadata": {},
   "outputs": [],
   "source": [
    "#topic 0: internet speed & customer service, linking to virgin\n",
    "#topic 1: broadband speed drops & customer service\n",
    "#topic 2: broadband & internet, focus on price\n",
    "#topic 3: slow internet, issues with internet & broadband connectivity, pay\n",
    "#topic 4: slow wifi & broadband, poor connection, drops at times and doesnt always work"
   ]
  },
  {
   "cell_type": "code",
   "execution_count": 51,
   "id": "010fe7c3",
   "metadata": {
    "collapsed": true
   },
   "outputs": [
    {
     "name": "stdout",
     "output_type": "stream",
     "text": [
      "Topic 0:\n",
      "['internet', 'work', 'get', 'time', 'drop', 'keep', 'day', 'broadband', 'issu', 'home']\n",
      "\n",
      "Topic 1:\n",
      "['internet', 'servic', 'broadband', 'drop', 'connect', 'work', 'poor', 'custom', 'router', 'expens']\n",
      "\n",
      "Topic 2:\n",
      "['internet', 'servic', 'work', 'time', 'custom', 'virgin', 'intermitt', 'call', 'issu', 'connect']\n",
      "\n",
      "Topic 3:\n",
      "['wifi', 'broadband', 'work', 'virgin', 'time', 'custom', 'servic', 'price', 'issu', 'reliabl']\n",
      "\n",
      "Topic 4:\n",
      "['issu', 'wifi', 'broadband', 'servic', 'router', 'get', 'time', 'phone', 'ive', 'told']\n",
      "\n"
     ]
    }
   ],
   "source": [
    "for topic in reliability_lda.show_topics(num_topics=5, num_words=10, formatted=False):\n",
    "    print('Topic {}:'.format(topic[0]))\n",
    "    print([word[0] for word in topic[1]])\n",
    "    print()"
   ]
  },
  {
   "cell_type": "code",
   "execution_count": null,
   "id": "8c910539",
   "metadata": {},
   "outputs": [],
   "source": [
    "#topic 0: at home internet drops\n",
    "#topic 1: router, customer service, expensive\n",
    "#topic 2: related to the company, calling customer service (?), connectivity issues\n",
    "#topic 3: issues with pricing and wifi/broadband\n",
    "#topic 4: wifi/broadband, customer service calling on the phone(?)"
   ]
  },
  {
   "cell_type": "markdown",
   "id": "6e458678",
   "metadata": {},
   "source": [
    "# CH"
   ]
  },
  {
   "cell_type": "code",
   "execution_count": 64,
   "id": "40545ab8",
   "metadata": {},
   "outputs": [],
   "source": [
    "def no_stemming_preprocessed_comments(comment_list):\n",
    "    preprocessed_comments = []\n",
    "    for comment in comment_list:\n",
    "        comment = comment.lower()\n",
    "        comment = ''.join([c for c in comment if c not in punctuation])\n",
    "        tokens = word_tokenize(comment)\n",
    "        tokens = [token for token in tokens if token not in stoplist and token not in punctuation and not token.isnumeric()]\n",
    "        #tokens = [ps.stem(token) for token in tokens]\n",
    "        #tokens = [token for token in tokens if token not in stoplist and token not in punctuation and not token.isnumeric()]\n",
    "        preprocessed_comments.append(tokens)\n",
    "    return preprocessed_comments"
   ]
  },
  {
   "cell_type": "code",
   "execution_count": 97,
   "id": "4aed2a1c",
   "metadata": {},
   "outputs": [],
   "source": [
    "ch_outages = pd.read_excel(r'C:CH(internet-outages).xlsx')\n",
    "ch_reliability = pd.read_excel(r'C:CH(internet-reliability).xlsx')"
   ]
  },
  {
   "cell_type": "code",
   "execution_count": 98,
   "id": "e58dd843",
   "metadata": {},
   "outputs": [],
   "source": [
    "ch_outages = ch_outages['comment'].tolist()\n",
    "ch_reliability = ch_reliability['comment'].tolist()"
   ]
  },
  {
   "cell_type": "code",
   "execution_count": 99,
   "id": "b6e995ff",
   "metadata": {},
   "outputs": [],
   "source": [
    "ch_outages_preprocessed = no_stemming_preprocessed_comments(ch_outages)\n",
    "ch_reliability_preprocessed = no_stemming_preprocessed_comments(ch_reliability)"
   ]
  },
  {
   "cell_type": "code",
   "execution_count": 100,
   "id": "fba38a19",
   "metadata": {
    "collapsed": true
   },
   "outputs": [
    {
     "name": "stdout",
     "output_type": "stream",
     "text": [
      "[['often', 'restart', 'router'], ['wired', 'network', 'reliability'], ['weak', 'connection', 'depending', 'location', 'slow', 'fastest', 'subscription'], ['connection', 'sometimes', 'bad', 'none'], ['improve', 'stability', 'faster', 'internet'], ['unstable', 'micro', 'cut', 'causing', 'big', 'problems', 'skype', 'zoom', 'calls', 'contractual', 'speed', 'real', 'irregular'], ['lately', 'become', 'unstable', 'without', 'connection', 'hours'], ['unstable', 'wifi', 'connection', 'often', 'lost'], ['stability', 'speed', 'poor'], ['since', 'providers', 'taken', 'problem', 'mix', 'internet', 'information'], ['router', 'restarted', 'every', 'days', 'hangs', 'somehow', 'therefore', 'unreliable'], ['game', 'play', 'often', 'play', 'people', 'regularly', 'fall', 'server', 'according', 'forums', 'game', 'due', 'stable', 'line', 'preferably', 'fixed', 'ip', 'address', 'way', 'ive', 'written', 'way', 'computer', 'connected', 'via', 'lan', 'everything', 'work', 'smoothly'], ['network', 'stability', 'problems', 'youre', 'teleworking', 'extremely', 'embarrassing', 'moreover', 'box', 'crashes', 'least', '45x', 'watching', 'movie', 'replay'], ['complaints', 'bad', 'internet', 'connection', 'ignored', 'since', 'beginning', 'changeover', 'sunrise', 'despite', 'monthly', 'fees', 'almost', 'sfr', 'else', 'recommended', 'also', 'tried', 'several', 'times', 'charge', 'gifts', 'company', 'free', 'accommodations', 'afterwards', 'ps', 'internet', 'well', 'television', 'still', 'comes', 'partly', 'slide', 'pictures', '😡', 'still', 'reaction', 'know', 'interested'], ['internet', 'unstable', 'hotline', 'reached', 'phone'], ['connection', 'routermodem', 'optimal', 'often', 'shaky', 'tv', 'picture', 'switching', 'modem', 'times', 'per', 'evening', 'picture', 'disturbance', 'eliminated'], ['internet', 'bad', 'repeated', 'interruptions', 'even', 'new', 'plugs', 'wouldnt', 'better'], ['mysport', 'charged', 'even', 'though', 'canceled', 'months', 'reason', 'cant', 'done', 'writing', 'contradicts', 'law', 'addition', 'internet', 'fluctuated', 'since', 'ive', 'living', 'bonstetten'], ['internet', 'performance', 'varies', 'bonstetten'], ['net', 'bad', 'network', 'natel', 'becomes', 'even', 'worse', 'sunrise', 'bad', 'network'], ['poor', 'range', 'connection', 'tv', 'box', 'often', 'breaks'], ['unstable', 'speed', 'varies', 'lot'], ['expensive', 'weak', 'constant', 'internet', 'tv', 'storage', 'subject', 'charge'], ['performance', 'fluctuations', 'especially', 'rush', 'hour', 'times'], ['internet', 'connection', 'sometimes', 'slow', 'drops', 'time', 'time'], ['wifi', 'connection', 'often', 'poor', 'past', 'months'], ['since', 'upc', 'sunrise', 'merged', 'connection', 'home', 'gotten', 'worse', 'therefore', 'switched', 'yallo', 'mobiles'], ['internet', 'connection', 'home', 'go', 'reliable'], ['bad', 'internet'], ['connection', 'fails', 'unconvenient', 'home', 'office'], ['reliability', 'improved'], ['wifi', 'speed', 'good', 'cant', 'put', 'cables', 'everywhere', 'house', 'sometimes', 'bugs', 'box'], ['internet', 'connection', '2nd', 'floor', 'bad'], ['big', 'problems', 'internet', 'sent', 'new', 'mediabox', 'phones', 'sent', 'old', 'box', 'back', 'return', 'mail', 'still', 'sent', 'reminder'], ['wifi', 'reliability', 'improved', 'please'], ['internet', 'great', 'however', 'absolutely', 'unreliable', 'keeps', 'dropping', 'time', 'time', 'info', 'long', 'absolutely', 'unacceptable', 'business', 'budget', 'thats', 'weve', 'thought', 'changing', 'providers', 'several', 'times'], ['internet', 'problems', 'months', 'must', 'call', 'technical', 'department', 'times', 'technical', 'staff', 'nice', 'helpful', 'able', 'solve', 'problem', 'moment', 'unfortunately', 'long', 'term', 'rating', 'refers', 'provider', 'poor', 'service', 'price', 'pay', 'monthly', 'satisfied', 'terminate', 'prematurely', 'soon', 'contract', 'period', 'expires', 'definitely', 'cancel', 'subscription', 'switch', 'previous', 'provider', 'swisscom', 'never', 'go', 'back', 'upc', 'sunrise', 'unbelievable', 'service', 'deteriorated', 'extremely', 'bad'], ['since', 'takeover', 'sunrise', 'stability', 'internet', 'gotten', 'worse'], ['expensive', 'poor', 'internet', 'connection', 'tv', 'box', 'keeps', 'dropping'], ['speed', 'stability', 'improved'], ['improve', 'quality', 'internet', 'wifi']]\n"
     ]
    }
   ],
   "source": [
    "print(ch_reliability_preprocessed)"
   ]
  },
  {
   "cell_type": "code",
   "execution_count": 101,
   "id": "4b096e86",
   "metadata": {},
   "outputs": [],
   "source": [
    "ch_outages_dictionary = corpora.Dictionary(ch_outages_preprocessed)\n",
    "ch_reliability_dictionary = corpora.Dictionary(ch_reliability_preprocessed)"
   ]
  },
  {
   "cell_type": "code",
   "execution_count": 102,
   "id": "cb4880aa",
   "metadata": {},
   "outputs": [],
   "source": [
    "ch_outages_corpus = [ch_outages_dictionary.doc2bow(comment) for comment in ch_outages_preprocessed]\n",
    "ch_reliability_corpus = [ch_reliability_dictionary.doc2bow(comment) for comment in ch_reliability_preprocessed]"
   ]
  },
  {
   "cell_type": "code",
   "execution_count": 103,
   "id": "9192e561",
   "metadata": {},
   "outputs": [],
   "source": [
    "num_topics = 4\n",
    "passes = 10\n",
    "ch_outages_lda = models.LdaModel(ch_outages_corpus, id2word=speed_dictionary, num_topics=num_topics, passes=passes)\n",
    "ch_reliability_lda = models.LdaModel(ch_reliability_corpus, id2word=reliability_dictionary, num_topics=num_topics, passes=passes)"
   ]
  },
  {
   "cell_type": "code",
   "execution_count": 104,
   "id": "0fe629ff",
   "metadata": {
    "collapsed": true
   },
   "outputs": [
    {
     "name": "stdout",
     "output_type": "stream",
     "text": [
      "Topic 0:\n",
      "['well', 'renew', 'older', 'virgin', 'significantli', 'problem', 'devic', 'downstair', 'advisor', 'constraint']\n",
      "\n",
      "Topic 1:\n",
      "['regular', 'higher', 'channel', 'claim', 'deal…', 'staff', 'late', 'say', 'aw', 'charg']\n",
      "\n",
      "Topic 2:\n",
      "['price', 'use', 'side', 'capabl', 'renew', 'vari', 'back', 'cabl', '60mb', 'suspect']\n",
      "\n",
      "Topic 3:\n",
      "['price', 'regular', 'renew', 'channel', 'report', 'vari', 'wors', 'stand', 'run', 'manag']\n",
      "\n"
     ]
    }
   ],
   "source": [
    "for topic in ch_outages_lda.show_topics(num_topics=5, num_words=10, formatted=False):\n",
    "    print('Topic {}:'.format(topic[0]))\n",
    "    print([word[0] for word in topic[1]])\n",
    "    print()"
   ]
  },
  {
   "cell_type": "code",
   "execution_count": 105,
   "id": "97c58e1e",
   "metadata": {
    "collapsed": true
   },
   "outputs": [
    {
     "name": "stdout",
     "output_type": "stream",
     "text": [
      "Topic 0:\n",
      "['expens', 'pay', 'never', 'zoom', '£60', 'abysm', 'ago', 'anymor', 'hub', 'drop']\n",
      "\n",
      "Topic 1:\n",
      "['make', 'consist', 'connect', 'devic', 'drop', 'mani', 'work', 'show', 'hour', 'period']\n",
      "\n",
      "Topic 2:\n",
      "['make', 'consist', 'drop', 'got', 'age', 'broadband', 'also', 'wors', 'put', 'work']\n",
      "\n",
      "Topic 3:\n",
      "['work', 'make', 'crucial', 'second', 'server', 'breakdown', 'pass', 'wors', 'internet', 'hub']\n",
      "\n"
     ]
    }
   ],
   "source": [
    "for topic in ch_reliability_lda.show_topics(num_topics=5, num_words=10, formatted=False):\n",
    "    print('Topic {}:'.format(topic[0]))\n",
    "    print([word[0] for word in topic[1]])\n",
    "    print()"
   ]
  },
  {
   "cell_type": "code",
   "execution_count": null,
   "id": "4d7dc79c",
   "metadata": {},
   "outputs": [],
   "source": []
  },
  {
   "cell_type": "code",
   "execution_count": null,
   "id": "4dd9d07b",
   "metadata": {},
   "outputs": [],
   "source": []
  }
 ],
 "metadata": {
  "kernelspec": {
   "display_name": "Python 3 (ipykernel)",
   "language": "python",
   "name": "python3"
  },
  "language_info": {
   "codemirror_mode": {
    "name": "ipython",
    "version": 3
   },
   "file_extension": ".py",
   "mimetype": "text/x-python",
   "name": "python",
   "nbconvert_exporter": "python",
   "pygments_lexer": "ipython3",
   "version": "3.11.5"
  }
 },
 "nbformat": 4,
 "nbformat_minor": 5
}
