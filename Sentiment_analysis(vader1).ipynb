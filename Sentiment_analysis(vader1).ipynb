{
 "cells": [
  {
   "cell_type": "code",
   "execution_count": 59,
   "id": "8aa9f083",
   "metadata": {},
   "outputs": [],
   "source": [
    "import pandas as pd\n",
    "import nltk\n",
    "from nltk.tokenize import word_tokenize\n",
    "from nltk.corpus import stopwords\n",
    "from nltk.tokenize import word_tokenize\n",
    "from nltk.corpus import stopwords\n",
    "from nltk.stem import PorterStemmer\n",
    "import string\n",
    "from nltk.sentiment import SentimentIntensityAnalyzer"
   ]
  },
  {
   "cell_type": "code",
   "execution_count": 94,
   "id": "84258a45",
   "metadata": {},
   "outputs": [],
   "source": [
    "pd.set_option('display.max_colwidth', None)"
   ]
  },
  {
   "cell_type": "code",
   "execution_count": 60,
   "id": "c0279978",
   "metadata": {},
   "outputs": [
    {
     "name": "stderr",
     "output_type": "stream",
     "text": [
      "[nltk_data] Downloading package vader_lexicon to\n",
      "[nltk_data]     C:\\Users\\annegru\\AppData\\Roaming\\nltk_data...\n",
      "[nltk_data]   Package vader_lexicon is already up-to-date!\n"
     ]
    },
    {
     "data": {
      "text/plain": [
       "True"
      ]
     },
     "execution_count": 60,
     "metadata": {},
     "output_type": "execute_result"
    }
   ],
   "source": [
    "nltk.download('vader_lexicon')"
   ]
  },
  {
   "cell_type": "code",
   "execution_count": null,
   "id": "f2b49f45",
   "metadata": {},
   "outputs": [],
   "source": [
    "comments = pd.read_excel(r\"C:\\Users\\annegru\\Liberty Global\\Product Strategy and Planning - Data and insights\\Products\\Stream Relationship Survey\\sentimentanalysis_comments.xlsx\")\n",
    "comments"
   ]
  },
  {
   "cell_type": "code",
   "execution_count": 62,
   "id": "cadd34eb",
   "metadata": {},
   "outputs": [],
   "source": [
    "comments.dropna(inplace=True)"
   ]
  },
  {
   "cell_type": "code",
   "execution_count": null,
   "id": "12d43ead",
   "metadata": {},
   "outputs": [],
   "source": [
    "comments_list = comments['reason_behind_score'].tolist()\n",
    "print(comments_list)"
   ]
  },
  {
   "cell_type": "code",
   "execution_count": 64,
   "id": "1070e2f0",
   "metadata": {},
   "outputs": [],
   "source": [
    "# tokenization\n",
    "stoplist = set(stopwords.words('english'))\n",
    "punctuation = string.punctuation + '‘’“”' \n",
    "ps = PorterStemmer()\n",
    "\n",
    "def preprocessed_comments(comment_list):\n",
    "    preprocessed_comments = []\n",
    "    for comment in comment_list:\n",
    "        comment = comment.lower()\n",
    "        comment = ''.join([c for c in comment if c not in punctuation])\n",
    "        tokens = word_tokenize(comment)\n",
    "        tokens = [token for token in tokens if token not in stoplist and token not in punctuation and not token.isnumeric()]\n",
    "        tokens = [ps.stem(token) for token in tokens]\n",
    "        tokens = [token for token in tokens if token not in stoplist and token not in punctuation and not token.isnumeric()]\n",
    "        preprocessed_comments.append(tokens)\n",
    "    return preprocessed_comments"
   ]
  },
  {
   "cell_type": "code",
   "execution_count": null,
   "id": "91505743",
   "metadata": {},
   "outputs": [],
   "source": [
    "print(preprocessed_comments(comments_list))"
   ]
  },
  {
   "cell_type": "code",
   "execution_count": null,
   "id": "a30e3031",
   "metadata": {},
   "outputs": [],
   "source": [
    "preprocessed_comments_list = preprocessed_comments(comments_list)\n",
    "print(preprocessed_comments_list)"
   ]
  },
  {
   "cell_type": "code",
   "execution_count": null,
   "id": "f79afb59",
   "metadata": {},
   "outputs": [],
   "source": [
    "# initialize sentiment intensity analyzer\n",
    "sid = SentimentIntensityAnalyzer()\n",
    "\n",
    "# generate polarity scores (negative, neutral, positive, compound) per comment\n",
    "for comment in comments_list:\n",
    "    sentiment_scores = sid.polarity_scores(comment)\n",
    "    print(f\"Comment: {comment}\")\n",
    "    print(f\"Sentiment Scores: {sentiment_scores}\")\n",
    "    print()"
   ]
  },
  {
   "cell_type": "code",
   "execution_count": 68,
   "id": "26e3ac4a",
   "metadata": {},
   "outputs": [],
   "source": [
    "# Create empty lists to store the results\n",
    "comment_list = []\n",
    "compound_score_list = []\n",
    "\n",
    "for comment in comments_list:\n",
    "    sentiment_scores = sid.polarity_scores(comment)\n",
    "    comment_list.append(comment)\n",
    "    compound_score_list.append(sentiment_scores['compound'])\n",
    "\n",
    "# Create a DataFrame from the lists\n",
    "df = pd.DataFrame({'Comment': comment_list, 'Compound Score': compound_score_list})\n"
   ]
  },
  {
   "cell_type": "code",
   "execution_count": null,
   "id": "c857a650",
   "metadata": {
    "scrolled": true
   },
   "outputs": [],
   "source": [
    "df"
   ]
  },
  {
   "cell_type": "code",
   "execution_count": null,
   "id": "09fd342e",
   "metadata": {},
   "outputs": [],
   "source": [
    "zero_scores_comments = df.loc[df['Compound Score'] == 0.0, 'Comment']\n",
    "zero_scores_comments"
   ]
  },
  {
   "cell_type": "code",
   "execution_count": null,
   "id": "c844c45c",
   "metadata": {},
   "outputs": [],
   "source": [
    "positive_scores_comments = df.loc[df['Compound Score'] > 0.0]\n",
    "positive_scores_comments"
   ]
  },
  {
   "cell_type": "code",
   "execution_count": null,
   "id": "b37946c1",
   "metadata": {},
   "outputs": [],
   "source": [
    "negative_scores_comments = df.loc[df['Compound Score'] < 0.0]\n",
    "negative_scores_comments"
   ]
  },
  {
   "cell_type": "code",
   "execution_count": 87,
   "id": "5294f0df",
   "metadata": {},
   "outputs": [
    {
     "name": "stdout",
     "output_type": "stream",
     "text": [
      "Negative comments with compound score below 0: 1787\n",
      "Negative comments with compound score between 0-0.2: 234\n",
      "Negative comments with compound score between 0.2-0.4: 419\n",
      "Negative comments with compound score between 0.4-0.6: 571\n",
      "Negative comments with compound score between 0.6-0.8: 371\n",
      "Highly negative comments with compound score of 0.8 or below: 192\n",
      "Neutral comments with compound score of 0: 826\n",
      "Positive comments with compound score above 0: 1808\n",
      "Positive comments with compound score between 0-0.2: 183\n",
      "Positive comments with compound score between 0.2-0.4: 332\n",
      "Positive comments with compound score between 0.4-0.6: 585\n",
      "Positive comments with compound score between 0.6-0.8: 470\n",
      "Highly positive comments with compound score of 0.8 or above: 238\n"
     ]
    }
   ],
   "source": [
    "# bucketing comments into levels of negativity/positivity and neutral\n",
    "\n",
    "print(f\"Negative comments with compound score below 0: {negative_comments}\")\n",
    "print(f\"Negative comments with compound score between 0-0.2: {neg_zero_to_two_comments}\")\n",
    "print(f\"Negative comments with compound score between 0.2-0.4: {neg_two_to_four_comments}\")\n",
    "print(f\"Negative comments with compound score between 0.4-0.6: {neg_four_to_six_comments}\")\n",
    "print(f\"Negative comments with compound score between 0.6-0.8: {neg_six_to_eight_comments}\")\n",
    "print(f\"Highly negative comments with compound score of 0.8 or below: {very_negative_comments}\")\n",
    "\n",
    "\n",
    "print(f\"Neutral comments with compound score of 0: {neutral_comments}\")\n",
    "\n",
    "\n",
    "print(f\"Positive comments with compound score above 0: {positive_comments}\")\n",
    "print(f\"Positive comments with compound score between 0-0.2: {zero_to_two_comments}\")\n",
    "print(f\"Positive comments with compound score between 0.2-0.4: {two_to_four_comments}\")\n",
    "print(f\"Positive comments with compound score between 0.4-0.6: {four_to_six_comments}\")\n",
    "print(f\"Positive comments with compound score between 0.6-0.8: {six_to_eight_comments}\")\n",
    "print(f\"Highly positive comments with compound score of 0.8 or above: {very_positive_comments}\")"
   ]
  },
  {
   "cell_type": "markdown",
   "id": "7ef52254",
   "metadata": {},
   "source": [
    "The 'compound' score is one of the sentiment scores provided by the VADER sentiment analyzer. It represents an overall sentiment polarity calculated using a specific algorithm in the VADER sentiment analysis tool. The compound score is computed based on heuristics used by VADER to determine the sentiment intensity of the text. It takes into account linguistic & grammatical rules as well as word order & context to calculate a normalized, weighted score. The score ranges from -1 (highly negative) to 1 (highly positive).\n",
    "\n",
    "Out of 4420 comments in total, 1787 are considered negative as they have a compound score below 0. Out of those negative comments, 192 of them are considered highly negative as they have a compound score of -0.8 or less. \n",
    "\n",
    "Out of 4420 comments in total, 1808 are considered positive as they have a compound score above 0. Out of these positive comments, 238 are considered highly positive as they have a compound score of 0.8 or greater.\n",
    "\n",
    "Out of 4421 comments in total, 826 are considered neutral because they have a compound score of 0.0"
   ]
  },
  {
   "cell_type": "code",
   "execution_count": null,
   "id": "791bece3",
   "metadata": {},
   "outputs": [],
   "source": []
  }
 ],
 "metadata": {
  "kernelspec": {
   "display_name": "Python 3 (ipykernel)",
   "language": "python",
   "name": "python3"
  },
  "language_info": {
   "codemirror_mode": {
    "name": "ipython",
    "version": 3
   },
   "file_extension": ".py",
   "mimetype": "text/x-python",
   "name": "python",
   "nbconvert_exporter": "python",
   "pygments_lexer": "ipython3",
   "version": "3.11.5"
  }
 },
 "nbformat": 4,
 "nbformat_minor": 5
}
