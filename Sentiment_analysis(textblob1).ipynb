{
 "cells": [
  {
   "cell_type": "code",
   "execution_count": 11,
   "id": "469bd7cf",
   "metadata": {},
   "outputs": [],
   "source": [
    "import pandas as pd\n",
    "import nltk\n",
    "from nltk.tokenize import word_tokenize\n",
    "from nltk.corpus import stopwords\n",
    "from nltk.tokenize import word_tokenize\n",
    "from nltk.corpus import stopwords\n",
    "from nltk.stem import PorterStemmer\n",
    "import string\n",
    "from textblob import TextBlob\n",
    "import itertools "
   ]
  },
  {
   "cell_type": "code",
   "execution_count": null,
   "id": "344ecea4",
   "metadata": {},
   "outputs": [],
   "source": [
    "comments = pd.read_excel(r\"C:\\sentimentanalysis_comments.xlsx\")\n",
    "comments"
   ]
  },
  {
   "cell_type": "code",
   "execution_count": 24,
   "id": "2254ace1",
   "metadata": {},
   "outputs": [],
   "source": [
    "pd.set_option('display.max_colwidth', None)"
   ]
  },
  {
   "cell_type": "code",
   "execution_count": 3,
   "id": "a20fe419",
   "metadata": {},
   "outputs": [],
   "source": [
    "comments.dropna(inplace=True)"
   ]
  },
  {
   "cell_type": "code",
   "execution_count": null,
   "id": "a6a2c674",
   "metadata": {},
   "outputs": [],
   "source": [
    "# create a list out of all comments\n",
    "comments_list = comments['reason_behind_score'].tolist()\n",
    "print(comments_list)"
   ]
  },
  {
   "cell_type": "code",
   "execution_count": 5,
   "id": "e73f46d0",
   "metadata": {},
   "outputs": [],
   "source": [
    "# passing the list of comments through a tokenization function\n",
    "# utilizing a list of stopwords, removing punctuation, applying porter stemmer\n",
    "stoplist = set(stopwords.words('english'))\n",
    "punctuation = string.punctuation + '‘’“”' \n",
    "ps = PorterStemmer()\n",
    "\n",
    "def preprocessed_comments(comment_list):\n",
    "    preprocessed_comments = []\n",
    "    for comment in comment_list:\n",
    "        comment = comment.lower()\n",
    "        comment = ''.join([c for c in comment if c not in punctuation])\n",
    "        tokens = word_tokenize(comment)\n",
    "        tokens = [token for token in tokens if token not in stoplist and token not in punctuation and not token.isnumeric()]\n",
    "        tokens = [ps.stem(token) for token in tokens]\n",
    "        tokens = [token for token in tokens if token not in stoplist and token not in punctuation and not token.isnumeric()]\n",
    "        preprocessed_comments.append(tokens)\n",
    "    return preprocessed_comments"
   ]
  },
  {
   "cell_type": "code",
   "execution_count": null,
   "id": "ab1a7ea9",
   "metadata": {},
   "outputs": [],
   "source": [
    "preprocessed_comments_list = preprocessed_comments(comments_list)\n",
    "print(preprocessed_comments_list)"
   ]
  },
  {
   "cell_type": "code",
   "execution_count": 34,
   "id": "de1e2fce",
   "metadata": {},
   "outputs": [],
   "source": [
    "# Perform sentiment analysis and add sentiment labels to the dataframe\n",
    "comments['Sentiment_polarity'] = comments['reason_behind_score'].apply(lambda x: TextBlob(x).sentiment.polarity)"
   ]
  },
  {
   "cell_type": "code",
   "execution_count": 38,
   "id": "394e491f",
   "metadata": {},
   "outputs": [],
   "source": [
    "# Perform sentiment analysis and add sentiment labels to the dataframe\n",
    "comments['Sentiment_subjectivity'] = comments['reason_behind_score'].apply(lambda x: TextBlob(x).sentiment.subjectivity)"
   ]
  },
  {
   "cell_type": "code",
   "execution_count": 35,
   "id": "06b8628f",
   "metadata": {},
   "outputs": [],
   "source": [
    "# function to set thresholds per sentiment score intervals\n",
    "def get_sentiment_label(sentiment_score):\n",
    "    if sentiment_score <= -0.8:\n",
    "        return 'Highly Negative'\n",
    "    elif sentiment_score <= -0.6:\n",
    "        return 'Negative 0.6-0.8'\n",
    "    elif sentiment_score <= -0.4:\n",
    "        return 'Negative 0.4 to 0.6'\n",
    "    elif sentiment_score <= -0.2:\n",
    "        return 'Moderately negative 0.2 to 0.4'\n",
    "    elif sentiment_score < 0:\n",
    "        return 'Slightly negative (0 to 0.2)'\n",
    "    elif sentiment_score == 0:\n",
    "        return 'Neutral'\n",
    "    elif sentiment_score < 0.2:\n",
    "        return 'Slightly positive (0 to 0.2)'\n",
    "    elif sentiment_score < 0.4:\n",
    "        return 'Moderately positive (0.2 to 0.4)'\n",
    "    elif sentiment_score < 0.6:\n",
    "        return 'Positive (0.4 to 0.6)'\n",
    "    elif sentiment_score < 0.8:\n",
    "        return 'Positive (0.6 to 0.8)'\n",
    "    else:\n",
    "        return 'Highly Positive'"
   ]
  },
  {
   "cell_type": "code",
   "execution_count": 40,
   "id": "236dae83",
   "metadata": {},
   "outputs": [],
   "source": [
    "# Add sentiment label column to the dataframe\n",
    "comments['Sentiment Label Polarity'] = comments['Sentiment_polarity'].apply(get_sentiment_label)\n",
    "comments['Sentiment Label Subjectivity'] = comments['Sentiment_subjectivity'].apply(get_sentiment_label)"
   ]
  },
  {
   "cell_type": "code",
   "execution_count": null,
   "id": "2118dca8",
   "metadata": {
    "scrolled": true
   },
   "outputs": [],
   "source": [
    "comments"
   ]
  },
  {
   "cell_type": "code",
   "execution_count": null,
   "id": "3fa07667",
   "metadata": {
    "scrolled": true
   },
   "outputs": [],
   "source": [
    "negative_scores_comments = comments.loc[comments['Sentiment_polarity'] < 0.0]\n",
    "negative_scores_comments"
   ]
  },
  {
   "cell_type": "code",
   "execution_count": null,
   "id": "e62b1df0",
   "metadata": {
    "scrolled": true
   },
   "outputs": [],
   "source": [
    "positive_scores_comments = comments.loc[comments['Sentiment_polarity'] > 0.0]\n",
    "positive_scores_comments"
   ]
  },
  {
   "cell_type": "code",
   "execution_count": null,
   "id": "411494a5",
   "metadata": {
    "scrolled": true
   },
   "outputs": [],
   "source": [
    "neutral_scores_comments = comments.loc[comments['Sentiment_polarity'] == 0.0]\n",
    "neutral_scores_comments"
   ]
  },
  {
   "cell_type": "code",
   "execution_count": null,
   "id": "1d111e2b",
   "metadata": {},
   "outputs": [],
   "source": [
    "positive_scores_comments2 = comments.loc[comments['Sentiment_subjectivity'] > 0.0]\n",
    "positive_scores_comments2"
   ]
  },
  {
   "cell_type": "code",
   "execution_count": 47,
   "id": "8372d376",
   "metadata": {},
   "outputs": [
    {
     "name": "stdout",
     "output_type": "stream",
     "text": [
      "Slightly negative (0 to 0.2): 615 comments\n",
      "Moderately positive (0.2 to 0.4): 562 comments\n",
      "Neutral: 815 comments\n",
      "Positive (0.4 to 0.6): 345 comments\n",
      "Moderately negative 0.2 to 0.4: 427 comments\n",
      "Slightly positive (0 to 0.2): 655 comments\n",
      "Highly Negative: 101 comments\n",
      "Negative 0.6-0.8: 113 comments\n",
      "Negative 0.4 to 0.6: 263 comments\n",
      "Positive (0.6 to 0.8): 274 comments\n",
      "Highly Positive: 251 comments\n"
     ]
    }
   ],
   "source": [
    "# Create an empty dictionary to store the counts for each sentiment bucket\n",
    "sentiment_counts = {}\n",
    "\n",
    "# Iterate over the sentiment scores in the dataframe\n",
    "for sentiment_score in comments['Sentiment_polarity']:\n",
    "    # Get the sentiment label for the score\n",
    "    sentiment_label = get_sentiment_label(sentiment_score)\n",
    "    \n",
    "    # Increment the count for the sentiment label in the dictionary\n",
    "    sentiment_counts[sentiment_label] = sentiment_counts.get(sentiment_label, 0) + 1\n",
    "\n",
    "# Print the counts for each sentiment bucket\n",
    "for sentiment_label, count in sentiment_counts.items():\n",
    "    print(f\"{sentiment_label}: {count} comments\")\n"
   ]
  },
  {
   "cell_type": "code",
   "execution_count": 48,
   "id": "2ab5b0f4",
   "metadata": {},
   "outputs": [
    {
     "name": "stdout",
     "output_type": "stream",
     "text": [
      "Slightly negative (0 to 0.2): 615 comments\n",
      "Moderately positive (0.2 to 0.4): 1211 comments\n",
      "Neutral: 1490 comments\n",
      "Positive (0.4 to 0.6): 1517 comments\n",
      "Moderately negative 0.2 to 0.4: 427 comments\n",
      "Slightly positive (0 to 0.2): 808 comments\n",
      "Highly Negative: 101 comments\n",
      "Negative 0.6-0.8: 113 comments\n",
      "Negative 0.4 to 0.6: 263 comments\n",
      "Positive (0.6 to 0.8): 1433 comments\n",
      "Highly Positive: 864 comments\n"
     ]
    }
   ],
   "source": [
    "# Iterate over the sentiment scores in the dataframe\n",
    "for sentiment_score in comments['Sentiment_subjectivity']:\n",
    "    # Get the sentiment label for the score\n",
    "    sentiment_label = get_sentiment_label(sentiment_score)\n",
    "    \n",
    "    # Increment the count for the sentiment label in the dictionary\n",
    "    sentiment_counts[sentiment_label] = sentiment_counts.get(sentiment_label, 0) + 1\n",
    "\n",
    "# Print the counts for each sentiment bucket\n",
    "for sentiment_label, count in sentiment_counts.items():\n",
    "    print(f\"{sentiment_label}: {count} comments\")\n"
   ]
  },
  {
   "cell_type": "code",
   "execution_count": null,
   "id": "545bd175",
   "metadata": {},
   "outputs": [],
   "source": []
  }
 ],
 "metadata": {
  "kernelspec": {
   "display_name": "Python 3 (ipykernel)",
   "language": "python",
   "name": "python3"
  },
  "language_info": {
   "codemirror_mode": {
    "name": "ipython",
    "version": 3
   },
   "file_extension": ".py",
   "mimetype": "text/x-python",
   "name": "python",
   "nbconvert_exporter": "python",
   "pygments_lexer": "ipython3",
   "version": "3.11.5"
  }
 },
 "nbformat": 4,
 "nbformat_minor": 5
}
