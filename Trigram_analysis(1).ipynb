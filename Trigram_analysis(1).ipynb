{
 "cells": [
  {
   "cell_type": "code",
   "execution_count": null,
   "id": "0c1ac15d",
   "metadata": {},
   "outputs": [],
   "source": [
    "import pandas as pd\n",
    "from textblob import TextBlob\n",
    "import nltk\n",
    "nltk.download('stopwords')"
   ]
  },
  {
   "cell_type": "code",
   "execution_count": null,
   "id": "71042ef3",
   "metadata": {},
   "outputs": [],
   "source": [
    "pip install textblob"
   ]
  },
  {
   "cell_type": "code",
   "execution_count": 13,
   "id": "8169f6f4",
   "metadata": {},
   "outputs": [],
   "source": [
    "speed = pd.read_excel(r'C:\\Users\\annegru\\Liberty Global\\Product Strategy and Planning - Data and insights\\NPS new\\Text Analytics-Deep Dive\\4. March 2023\\UK_comments(internet - speed).xlsx')\n",
    "reliability = pd.read_excel(r'C:\\Users\\annegru\\Liberty Global\\Product Strategy and Planning - Data and insights\\NPS new\\Text Analytics-Deep Dive\\4. March 2023\\UK_comments(internet-reliability).xlsx')\n",
    "wifi_wireless_coverage =  pd.read_excel(r'C:\\Users\\annegru\\Liberty Global\\Product Strategy and Planning - Data and insights\\NPS new\\Text Analytics-Deep Dive\\4. March 2023\\UK_comments(internet-wifi).xlsx')"
   ]
  },
  {
   "cell_type": "markdown",
   "id": "db097560",
   "metadata": {},
   "source": [
    "# DF for speed, reliability & wifi/wireless coverage\n",
    "\n",
    "Calculate sentiment through polarity function, ranging from -1 to 1. -1 being negative and 1 being positive. Also use subjectivity function to calculate subjectivity. 0 is objective and 1 is subjective."
   ]
  },
  {
   "cell_type": "code",
   "execution_count": null,
   "id": "db2f4d3b",
   "metadata": {
    "scrolled": true
   },
   "outputs": [],
   "source": [
    "speed['polarity'] = speed['Comment'].apply(lambda x: TextBlob(x).polarity)\n",
    "speed['subjective'] = speed['Comment'].apply(lambda x: TextBlob(x).subjectivity)\n",
    "speed"
   ]
  },
  {
   "cell_type": "code",
   "execution_count": null,
   "id": "d1e6c79a",
   "metadata": {
    "scrolled": true
   },
   "outputs": [],
   "source": [
    "reliability['polarity'] = reliability['Comment'].apply(lambda x: TextBlob(x).polarity)\n",
    "reliability['subjective'] = reliability['Comment'].apply(lambda x: TextBlob(x).subjectivity)\n",
    "reliability"
   ]
  },
  {
   "cell_type": "code",
   "execution_count": null,
   "id": "1af6eadf",
   "metadata": {
    "scrolled": false
   },
   "outputs": [],
   "source": [
    "wifi_wireless_coverage['polarity'] = wifi_wireless_coverage['Comment'].apply(lambda x: TextBlob(x).polarity)\n",
    "wifi_wireless_coverage['subjective'] = wifi_wireless_coverage['Comment'].apply(lambda x: TextBlob(x).subjectivity)\n",
    "wifi_wireless_coverage"
   ]
  },
  {
   "cell_type": "markdown",
   "id": "1dd41ac2",
   "metadata": {},
   "source": [
    "# Speed"
   ]
  },
  {
   "cell_type": "code",
   "execution_count": 83,
   "id": "66f1db93",
   "metadata": {},
   "outputs": [],
   "source": [
    "from nltk.corpus import stopwords\n",
    "stoplist = stopwords.words('english')+ ['terrible'] + ['worst'] + ['good'] + ['absolutely'] + ['awful']"
   ]
  },
  {
   "cell_type": "code",
   "execution_count": null,
   "id": "f9e14082",
   "metadata": {
    "scrolled": true
   },
   "outputs": [],
   "source": [
    "from sklearn.feature_extraction.text import CountVectorizer\n",
    "c_vec = CountVectorizer(stop_words=stoplist, ngram_range=(3,3))\n",
    "# matrix of ngrams\n",
    "ngrams = c_vec.fit_transform(speed['Comment'])\n",
    "# count frequency of ngrams\n",
    "count_values = ngrams.toarray().sum(axis=0)\n",
    "# list of ngrams\n",
    "vocab = c_vec.vocabulary_\n",
    "speed_ngram = pd.DataFrame(sorted([(count_values[i],k) for k,i in vocab.items()], reverse=True)\n",
    "            ).rename(columns={0: 'frequency', 1:'trigram'})\n",
    "speed_ngram"
   ]
  },
  {
   "cell_type": "code",
   "execution_count": null,
   "id": "f20d5d38",
   "metadata": {},
   "outputs": [],
   "source": [
    "vocab"
   ]
  },
  {
   "cell_type": "code",
   "execution_count": null,
   "id": "045a56b0",
   "metadata": {
    "scrolled": true
   },
   "outputs": [],
   "source": [
    "speed_ngram['polarity'] = speed_ngram['trigram'].apply(lambda x: TextBlob(x).polarity)\n",
    "speed_ngram['subjective'] = speed_ngram['trigram'].apply(lambda x: TextBlob(x).subjectivity)\n",
    "speed_ngram"
   ]
  },
  {
   "cell_type": "code",
   "execution_count": null,
   "id": "b4c6ce7a",
   "metadata": {
    "scrolled": true
   },
   "outputs": [],
   "source": [
    "negative_speed_trigrams = speed_ngram.loc[speed_ngram['polarity'] < -0.8, 'trigram']\n",
    "df_negative_speed_trigrams = pd.DataFrame(negative_speed_trigrams, columns=['trigram'])\n",
    "\n",
    "df_negative_speed_trigrams"
   ]
  },
  {
   "cell_type": "code",
   "execution_count": null,
   "id": "562d224e",
   "metadata": {},
   "outputs": [],
   "source": [
    "positive_speed_trigrams = speed_ngram.loc[speed_ngram['polarity'] > 0.8, 'trigram']\n",
    "df_positive_speed_trigrams = pd.DataFrame(positive_speed_trigrams, columns=['trigram'])\n",
    "df_positive_speed_trigrams"
   ]
  },
  {
   "cell_type": "markdown",
   "id": "ab174269",
   "metadata": {},
   "source": [
    "# Reliability"
   ]
  },
  {
   "cell_type": "code",
   "execution_count": null,
   "id": "c6fec6fa",
   "metadata": {
    "scrolled": true
   },
   "outputs": [],
   "source": [
    "from sklearn.feature_extraction.text import CountVectorizer\n",
    "c_vec = CountVectorizer(stop_words=stoplist, ngram_range=(3,3))\n",
    "# matrix of ngrams\n",
    "ngrams = c_vec.fit_transform(reliability['Comment'])\n",
    "# count frequency of ngrams\n",
    "count_values = ngrams.toarray().sum(axis=0)\n",
    "# list of ngrams\n",
    "vocab = c_vec.vocabulary_\n",
    "reliability_ngram = pd.DataFrame(sorted([(count_values[i],k) for k,i in vocab.items()], reverse=True)\n",
    "            ).rename(columns={0: 'frequency', 1:'trigram'})\n",
    "reliability_ngram"
   ]
  },
  {
   "cell_type": "code",
   "execution_count": null,
   "id": "65ef529a",
   "metadata": {
    "scrolled": true
   },
   "outputs": [],
   "source": [
    "reliability_ngram['polarity'] = reliability_ngram['trigram'].apply(lambda x: TextBlob(x).polarity)\n",
    "reliability_ngram['subjective'] = reliability_ngram['trigram'].apply(lambda x: TextBlob(x).subjectivity)\n",
    "reliability_ngram"
   ]
  },
  {
   "cell_type": "code",
   "execution_count": null,
   "id": "f9416f87",
   "metadata": {
    "scrolled": true
   },
   "outputs": [],
   "source": [
    "negative_reliability_trigrams = reliability_ngram.loc[reliability_ngram['polarity'] < -0.8, 'trigram']\n",
    "df_negative_reliability_trigrams = pd.DataFrame(negative_reliability_trigrams, columns=['trigram'])\n",
    "df_negative_reliability_trigrams"
   ]
  },
  {
   "cell_type": "code",
   "execution_count": null,
   "id": "6bd0d31f",
   "metadata": {
    "scrolled": true
   },
   "outputs": [],
   "source": [
    "positive_reliability_trigrams = reliability_ngram.loc[reliability_ngram['polarity'] > 0.8, 'trigram']\n",
    "df_positive_reliability_trigrams = pd.DataFrame(positive_reliability_trigrams, columns=['trigram'])\n",
    "df_positive_reliability_trigrams"
   ]
  },
  {
   "cell_type": "markdown",
   "id": "432d9bdc",
   "metadata": {},
   "source": [
    "# Wifi/ wireless coverage"
   ]
  },
  {
   "cell_type": "code",
   "execution_count": null,
   "id": "1b1edb85",
   "metadata": {},
   "outputs": [],
   "source": [
    "from sklearn.feature_extraction.text import CountVectorizer\n",
    "c_vec = CountVectorizer(stop_words=stoplist, ngram_range=(3,3))\n",
    "# matrix of ngrams\n",
    "ngrams = c_vec.fit_transform(wifi_wireless_coverage['Comment'])\n",
    "# count frequency of ngrams\n",
    "count_values = ngrams.toarray().sum(axis=0)\n",
    "# list of ngrams\n",
    "vocab = c_vec.vocabulary_\n",
    "wifi_wireless_coverage_ngram = pd.DataFrame(sorted([(count_values[i],k) for k,i in vocab.items()], reverse=True)\n",
    "            ).rename(columns={0: 'frequency', 1:'trigram'})\n",
    "wifi_wireless_coverage_ngram"
   ]
  },
  {
   "cell_type": "code",
   "execution_count": null,
   "id": "1ad22d0a",
   "metadata": {},
   "outputs": [],
   "source": [
    "wifi_wireless_coverage_ngram['polarity'] = wifi_wireless_coverage_ngram['trigram'].apply(lambda x: TextBlob(x).polarity)\n",
    "wifi_wireless_coverage_ngram['subjective'] = wifi_wireless_coverage_ngram['trigram'].apply(lambda x: TextBlob(x).subjectivity)\n",
    "wifi_wireless_coverage_ngram"
   ]
  },
  {
   "cell_type": "code",
   "execution_count": null,
   "id": "8e0fba04",
   "metadata": {
    "scrolled": true
   },
   "outputs": [],
   "source": [
    "negative_wifi_trigrams = wifi_wireless_coverage_ngram.loc[wifi_wireless_coverage_ngram['polarity'] < 0.8, 'trigram']\n",
    "df_negative_wifi_trigrams = pd.DataFrame(negative_wifi_trigrams, columns=['trigram'])\n",
    "df_negative_wifi_trigrams"
   ]
  },
  {
   "cell_type": "code",
   "execution_count": null,
   "id": "c8377d1c",
   "metadata": {
    "scrolled": true
   },
   "outputs": [],
   "source": [
    "positive_wifi_trigrams = wifi_wireless_coverage_ngram.loc[wifi_wireless_coverage_ngram['polarity'] > 0.8, 'trigram']\n",
    "df_positive_wifi_trigrams = pd.DataFrame(positive_wifi_trigrams, columns=['trigram'])\n",
    "df_positive_wifi_trigrams"
   ]
  },
  {
   "cell_type": "code",
   "execution_count": null,
   "id": "72a03b0f",
   "metadata": {},
   "outputs": [],
   "source": []
  }
 ],
 "metadata": {
  "kernelspec": {
   "display_name": "Python 3 (ipykernel)",
   "language": "python",
   "name": "python3"
  },
  "language_info": {
   "codemirror_mode": {
    "name": "ipython",
    "version": 3
   },
   "file_extension": ".py",
   "mimetype": "text/x-python",
   "name": "python",
   "nbconvert_exporter": "python",
   "pygments_lexer": "ipython3",
   "version": "3.11.5"
  }
 },
 "nbformat": 4,
 "nbformat_minor": 5
}
